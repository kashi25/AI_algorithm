{
 "cells": [
  {
   "cell_type": "markdown",
   "id": "5aa3cdc4-f53f-4df3-bf4c-b26e0c2d559a",
   "metadata": {},
   "source": [
    "# simple linear regression"
   ]
  },
  {
   "cell_type": "code",
   "execution_count": 4,
   "id": "dd8a00e9-8974-4d35-8828-1bcff9027110",
   "metadata": {},
   "outputs": [],
   "source": [
    "import numpy as np\n",
    "import matplotlib.pyplot as plt\n",
    "\n",
    "data = np.loadtxt(\"dataset.txt\", delimiter=\",\")\n"
   ]
  },
  {
   "cell_type": "code",
   "execution_count": 8,
   "id": "1cb48697-4488-4e0c-a63e-20c5f8758e0a",
   "metadata": {},
   "outputs": [],
   "source": [
    "X = data[:,0] \n",
    "# selects all the values in the first column (index 0) of data.\n",
    "# These values represent the sizes of the houses.\n",
    "# X is now a 1-dimensional NumPy array containing the sizes.\n",
    "\n",
    "Y = data[:, 1].reshape(X.size, 1)\n",
    "# data[:, 1].reshape(X.size, 1):\n",
    "\n",
    "#     data[:, 1] selects all the values in the second column (index 1) of data.\n",
    "#     These values represent the prices of the houses.\n",
    "#     Y is reshaped to have the same number of rows as X and 1 column, making it a 2-dimensional array.\n",
    "#     .reshape(X.size, 1) changes Y from a 1-dimensional array to a 2-dimensional array with one column. This is important for matrix operations in linear regression.\n",
    "\n",
    "\n",
    "\n",
    "X = np.vstack((np.ones((X.size, )), X)).T\n",
    "\n"
   ]
  },
  {
   "cell_type": "code",
   "execution_count": 9,
   "id": "54810d0e-3dbd-4a2e-903c-ec5ea5d0a0c5",
   "metadata": {},
   "outputs": [
    {
     "name": "stdout",
     "output_type": "stream",
     "text": [
      "(45, 2)\n",
      "(45, 1)\n"
     ]
    }
   ],
   "source": [
    "print(X.shape)\n",
    "print(Y.shape)"
   ]
  },
  {
   "cell_type": "code",
   "execution_count": 10,
   "id": "63c11cf5-1dd8-4478-ae74-ff90a32022e2",
   "metadata": {},
   "outputs": [
    {
     "data": {
      "image/png": "[encoded data removed]",
      "text/plain": [
       "<Figure size 640x480 with 1 Axes>"
      ]
     },
     "metadata": {},
     "output_type": "display_data"
    }
   ],
   "source": [
    "plt.scatter(X[:,1],Y)\n",
    "plt.show()"
   ]
  },
  {
   "cell_type": "code",
   "execution_count": 26,
   "id": "7f31940c-7671-4ba4-8350-1b3f32dc77fc",
   "metadata": {},
   "outputs": [],
   "source": [
    "def model(X,Y, learning_rate, iteration):\n",
    "    m = Y.shape\n",
    "    theta = np.zeros((2,1))\n",
    "    \n",
    "    for i in range(iteration):\n",
    "        y_pred = np.dot(X,theta)\n",
    "        cost = (1/(2*m))*np.sum(np.square(y_pred - Y))\n",
    "\n",
    "\n",
    "        d_theta = (1/m)*np.dot(X.T,y_pred -Y)\n",
    "        theta = theta - learning_rate*d_theta\n",
    "\n",
    "        cost_list.append(cost)\n",
    "\n",
    "    return theta,cost_list\n",
    "        "
   ]
  },
  {
   "cell_type": "code",
   "execution_count": 28,
   "id": "d94ac11b-f5df-4f9f-bc8f-1e4dc5f489db",
   "metadata": {},
   "outputs": [
    {
     "ename": "TypeError",
     "evalue": "unsupported operand type(s) for /: 'int' and 'tuple'",
     "output_type": "error",
     "traceback": [
      "\u001b[0;31m---------------------------------------------------------------------------\u001b[0m",
      "\u001b[0;31mTypeError\u001b[0m                                 Traceback (most recent call last)",
      "Cell \u001b[0;32mIn[28], line 3\u001b[0m\n\u001b[1;32m      1\u001b[0m iteration \u001b[38;5;241m=\u001b[39m \u001b[38;5;241m100\u001b[39m\n\u001b[1;32m      2\u001b[0m learning_rate \u001b[38;5;241m=\u001b[39m \u001b[38;5;241m0.00000005\u001b[39m\n\u001b[0;32m----> 3\u001b[0m theta, cost_list \u001b[38;5;241m=\u001b[39m \u001b[43mmodel\u001b[49m\u001b[43m(\u001b[49m\u001b[43mX\u001b[49m\u001b[43m,\u001b[49m\u001b[43m \u001b[49m\u001b[43mY\u001b[49m\u001b[43m,\u001b[49m\u001b[43m \u001b[49m\u001b[43mlearning_rate\u001b[49m\u001b[43m,\u001b[49m\u001b[43m \u001b[49m\u001b[43miteration\u001b[49m\u001b[43m)\u001b[49m\n",
      "Cell \u001b[0;32mIn[26], line 7\u001b[0m, in \u001b[0;36mmodel\u001b[0;34m(X, Y, learning_rate, iteration)\u001b[0m\n\u001b[1;32m      5\u001b[0m \u001b[38;5;28;01mfor\u001b[39;00m i \u001b[38;5;129;01min\u001b[39;00m \u001b[38;5;28mrange\u001b[39m(iteration):\n\u001b[1;32m      6\u001b[0m     y_pred \u001b[38;5;241m=\u001b[39m np\u001b[38;5;241m.\u001b[39mdot(X,theta)\n\u001b[0;32m----> 7\u001b[0m     cost \u001b[38;5;241m=\u001b[39m (\u001b[38;5;241;43m1\u001b[39;49m\u001b[38;5;241;43m/\u001b[39;49m\u001b[43m(\u001b[49m\u001b[38;5;241;43m2\u001b[39;49m\u001b[38;5;241;43m*\u001b[39;49m\u001b[43mm\u001b[49m\u001b[43m)\u001b[49m)\u001b[38;5;241m*\u001b[39mnp\u001b[38;5;241m.\u001b[39msum(np\u001b[38;5;241m.\u001b[39msquare(y_pred \u001b[38;5;241m-\u001b[39m Y))\n\u001b[1;32m     10\u001b[0m     d_theta \u001b[38;5;241m=\u001b[39m (\u001b[38;5;241m1\u001b[39m\u001b[38;5;241m/\u001b[39mm)\u001b[38;5;241m*\u001b[39mnp\u001b[38;5;241m.\u001b[39mdot(X\u001b[38;5;241m.\u001b[39mT,y_pred \u001b[38;5;241m-\u001b[39mY)\n\u001b[1;32m     11\u001b[0m     theta \u001b[38;5;241m=\u001b[39m theta \u001b[38;5;241m-\u001b[39m learning_rate\u001b[38;5;241m*\u001b[39md_theta\n",
      "\u001b[0;31mTypeError\u001b[0m: unsupported operand type(s) for /: 'int' and 'tuple'"
     ]
    }
   ],
   "source": [
    "iteration = 100\n",
    "learning_rate = 0.00000005\n",
    "theta, cost_list = model(X, Y, learning_rate, iteration)"
   ]
  },
  {
   "cell_type": "code",
   "execution_count": 20,
   "id": "80312e80-66b7-40ae-b559-27830cb51fed",
   "metadata": {},
   "outputs": [],
   "source": [
    "import numpy as np\n",
    "import matplotlib.pyplot as plt\n",
    "\n",
    "# Load the data from the text file\n",
    "data = np.loadtxt(\"dataset.txt\", delimiter=\",\")\n",
    "\n",
    "# Extract the sizes (X) and prices (Y)\n",
    "X = data[:, 0]\n",
    "Y = data[:, 1].reshape(X.size, 1)\n",
    "\n",
    "# Add a column of ones to X for the bias term and transpose\n",
    "X = np.vstack((np.ones((X.size, )), X)).T\n",
    "\n",
    "def model(X, Y, learning_rate, iteration):\n",
    "    # Initialize theta (parameters) to zeros\n",
    "    theta = np.zeros((X.shape[1], 1))\n",
    "    \n",
    "    # List to store the cost at each iteration\n",
    "    cost_list = []\n",
    "    \n",
    "    m = len(Y)\n",
    "    \n",
    "    for i in range(iteration):\n",
    "        # Calculate the predictions\n",
    "        predictions = X.dot(theta)\n",
    "        \n",
    "        # Calculate the error\n",
    "        error = predictions - Y\n",
    "        \n",
    "        # Calculate the cost (Mean Squared Error)\n",
    "        cost = (1 / (2 * m)) * np.sum(error ** 2)\n",
    "        \n",
    "        # Append the cost to the list\n",
    "        cost_list.append(cost)\n",
    "        \n",
    "        # Calculate the gradient\n",
    "        gradient = (1 / m) * X.T.dot(error)\n",
    "        \n",
    "        # Update the parameters\n",
    "        theta = theta - learning_rate * gradient\n",
    "    \n",
    "    return theta, cost_list\n",
    "\n",
    "# Parameters for gradient descent\n",
    "iteration = 100\n",
    "learning_rate = 0.00000005\n",
    "\n",
    "# Train the model\n",
    "theta, cost_list = model(X, Y, learning_rate, iteration)\n",
    "\n"
   ]
  },
  {
   "cell_type": "code",
   "execution_count": 22,
   "id": "bbe6f76c-290c-4e2d-973d-9ae89958bf4c",
   "metadata": {},
   "outputs": [
    {
     "data": {
      "text/plain": [
       "array([155746.83577767])"
      ]
     },
     "execution_count": 22,
     "metadata": {},
     "output_type": "execute_result"
    }
   ],
   "source": [
    "# price of 1567 sqare fit\n",
    "np.dot([1,1567],theta)"
   ]
  },
  {
   "cell_type": "code",
   "execution_count": 24,
   "id": "7b9f7916-ad60-445f-8459-749c5ff17ef5",
   "metadata": {},
   "outputs": [
    {
     "name": "stdout",
     "output_type": "stream",
     "text": [
      "Our model predicts the price of house with 1547 sq. ft. area as : $ 153759.0\n",
      "Our model predicts the price of house with 1896 sq. ft. area as : $ 188446.7\n",
      "Our model predicts the price of house with 1934 sq. ft. area as : $ 192223.59\n",
      "Our model predicts the price of house with 2800 sq. ft. area as : $ 278296.8\n",
      "Our model predicts the price of house with 3400 sq. ft. area as : $ 337931.81\n",
      "Our model predicts the price of house with 5000 sq. ft. area as : $ 496958.52\n"
     ]
    }
   ],
   "source": [
    "new_houses = np.array([[1, 1547], [1, 1896], [1, 1934], [1,\n",
    "2800], [1, 3400], [1, 5000]])\n",
    "for house in new_houses :\n",
    "    print(\"Our model predicts the price of house with\",\n",
    "house[1], \"sq. ft. area as : $\", round(np.dot(house, theta)[0],\n",
    "2))\n"
   ]
  },
  {
   "cell_type": "code",
   "execution_count": 25,
   "id": "7699aa0f-2b50-4240-aa55-2d11bd9be5c7",
   "metadata": {},
   "outputs": [
    {
     "data": {
      "image/png": "[encoded data removed]",
      "text/plain": [
       "<Figure size 640x480 with 1 Axes>"
      ]
     },
     "metadata": {},
     "output_type": "display_data"
    }
   ],
   "source": [
    "rng = np.arange(0, iteration)\n",
    "plt.plot(cost_list, rng)\n",
    "plt.show()"
   ]
  },
  {
   "cell_type": "code",
   "execution_count": null,
   "id": "79ecc4f3-0623-4933-9150-9f7088558060",
   "metadata": {},
   "outputs": [],
   "source": []
  },
  {
   "cell_type": "code",
   "execution_count": null,
   "id": "d570bce9-a4a5-4fa5-8c35-51a82ab41bf4",
   "metadata": {},
   "outputs": [],
   "source": []
  },
  {
   "cell_type": "code",
   "execution_count": 1,
   "id": "06ed86e3-7b9e-4119-af8c-9a1713d1892b",
   "metadata": {},
   "outputs": [
    {
     "name": "stdout",
     "output_type": "stream",
     "text": [
      "   Size   Price\n",
      "0  1500  300000\n",
      "1  1600  320000\n",
      "2  1700  340000\n",
      "3  1800  360000\n",
      "4  1900  380000\n",
      "Slope (m): 200.0\n",
      "Intercept (b): 0.0\n"
     ]
    },
    {
     "data": {
      "image/png": "[encoded data removed]",
      "text/plain": [
       "<Figure size 640x480 with 1 Axes>"
      ]
     },
     "metadata": {},
     "output_type": "display_data"
    }
   ],
   "source": [
    "import pandas as pd\n",
    "import numpy as np\n",
    "import matplotlib.pyplot as plt\n",
    "\n",
    "# Define the Linear Regression class\n",
    "class LinearRegression:\n",
    "    def __init__(self):\n",
    "        self.m = 0\n",
    "        self.b = 0\n",
    "    \n",
    "    def fit(self, X, y):\n",
    "        n = len(X)\n",
    "        numerator_m = (n * np.sum(X * y)) - (np.sum(X) * np.sum(y))\n",
    "        denominator_m = (n * np.sum(X**2)) - (np.sum(X)**2)\n",
    "        self.m = numerator_m / denominator_m\n",
    "        \n",
    "        self.b = (np.sum(y) - self.m * np.sum(X)) / n\n",
    "    \n",
    "    def predict(self, X):\n",
    "        return self.m * X + self.b\n",
    "    \n",
    "    def plot(self, X, y):\n",
    "        plt.scatter(X, y, color='blue', label='Data Points')\n",
    "        plt.plot(X, self.predict(X), color='red', label='Regression Line')\n",
    "        plt.xlabel('Size')\n",
    "        plt.ylabel('Price')\n",
    "        plt.legend()\n",
    "        plt.show()\n",
    "\n",
    "# Load data from Excel file\n",
    "file_path = 'house_prices.xlsx'\n",
    "data = pd.read_excel(file_path)\n",
    "\n",
    "# Display the first few rows of the dataset\n",
    "print(data.head())\n",
    "\n",
    "# Extract features and target variable\n",
    "X = data['Size'].values\n",
    "y = data['Price'].values\n",
    "\n",
    "# Initialize the Linear Regression model\n",
    "model = LinearRegression()\n",
    "\n",
    "# Fit the model\n",
    "model.fit(X, y)\n",
    "\n",
    "# Print the slope and intercept\n",
    "print(f\"Slope (m): {model.m}\")\n",
    "print(f\"Intercept (b): {model.b}\")\n",
    "\n",
    "# Plot the results\n",
    "model.plot(X, y)\n"
   ]
  },
  {
   "cell_type": "code",
   "execution_count": null,
   "id": "d20020fa-f1c1-49a0-9a3d-00a13aa91f89",
   "metadata": {},
   "outputs": [],
   "source": []
  },
  {
   "cell_type": "markdown",
   "id": "ecafb545-ef1b-44b4-a368-aba503335e00",
   "metadata": {},
   "source": [
    "# another example"
   ]
  },
  {
   "cell_type": "code",
   "execution_count": 1,
   "id": "9beb536c-7a97-47a2-97cf-ff4274e7f4ee",
   "metadata": {},
   "outputs": [],
   "source": [
    "import pandas as pd\n",
    "import numpy as np\n",
    "import matplotlib.pyplot as plt"
   ]
  },
  {
   "cell_type": "markdown",
   "id": "2bd25805-a0a5-427d-9f54-b78236629eb4",
   "metadata": {},
   "source": [
    "# load  the dataset"
   ]
  },
  {
   "cell_type": "code",
   "execution_count": 5,
   "id": "1af0b904-8b50-4853-b06f-5a726d5da025",
   "metadata": {},
   "outputs": [],
   "source": [
    "data = pd.read_excel('house_prices.xlsx')"
   ]
  },
  {
   "cell_type": "code",
   "execution_count": 6,
   "id": "fb9144cd-2122-457c-bc83-04a8b61e8ae7",
   "metadata": {},
   "outputs": [
    {
     "data": {
      "text/html": [
       "<div>\n",
       "<style scoped>\n",
       "    .dataframe tbody tr th:only-of-type {\n",
       "        vertical-align: middle;\n",
       "    }\n",
       "\n",
       "    .dataframe tbody tr th {\n",
       "        vertical-align: top;\n",
       "    }\n",
       "\n",
       "    .dataframe thead th {\n",
       "        text-align: right;\n",
       "    }\n",
       "</style>\n",
       "<table border=\"1\" class=\"dataframe\">\n",
       "  <thead>\n",
       "    <tr style=\"text-align: right;\">\n",
       "      <th></th>\n",
       "      <th>Size</th>\n",
       "      <th>Price</th>\n",
       "    </tr>\n",
       "  </thead>\n",
       "  <tbody>\n",
       "    <tr>\n",
       "      <th>0</th>\n",
       "      <td>1500</td>\n",
       "      <td>300000</td>\n",
       "    </tr>\n",
       "    <tr>\n",
       "      <th>1</th>\n",
       "      <td>1600</td>\n",
       "      <td>320000</td>\n",
       "    </tr>\n",
       "    <tr>\n",
       "      <th>2</th>\n",
       "      <td>1700</td>\n",
       "      <td>340000</td>\n",
       "    </tr>\n",
       "    <tr>\n",
       "      <th>3</th>\n",
       "      <td>1800</td>\n",
       "      <td>360000</td>\n",
       "    </tr>\n",
       "    <tr>\n",
       "      <th>4</th>\n",
       "      <td>1900</td>\n",
       "      <td>380000</td>\n",
       "    </tr>\n",
       "  </tbody>\n",
       "</table>\n",
       "</div>"
      ],
      "text/plain": [
       "   Size   Price\n",
       "0  1500  300000\n",
       "1  1600  320000\n",
       "2  1700  340000\n",
       "3  1800  360000\n",
       "4  1900  380000"
      ]
     },
     "execution_count": 6,
     "metadata": {},
     "output_type": "execute_result"
    }
   ],
   "source": [
    "data.head()"
   ]
  },
  {
   "cell_type": "markdown",
   "id": "c90213da-2034-41ea-8c4c-7a11dca71d09",
   "metadata": {},
   "source": [
    "# prepare data"
   ]
  },
  {
   "cell_type": "code",
   "execution_count": 7,
   "id": "0e36f3aa-1694-41da-9279-97ba91502050",
   "metadata": {},
   "outputs": [],
   "source": [
    "X = data['Size'].values\n",
    "y= data['Price'].values"
   ]
  },
  {
   "cell_type": "code",
   "execution_count": 9,
   "id": "fbee5f16-2ff8-4efb-aa6f-bcddfcc09078",
   "metadata": {},
   "outputs": [
    {
     "name": "stdout",
     "output_type": "stream",
     "text": [
      "[1500 1600 1700 1800 1900 2000 2100 2200 2300 2400 2500]\n",
      "[300000 320000 340000 360000 380000 400000 420000 440000 460000 480000\n",
      " 500000]\n"
     ]
    }
   ],
   "source": [
    "print(X)\n",
    "print(y)"
   ]
  },
  {
   "cell_type": "markdown",
   "id": "d6c6a6f1-e659-4ea4-a7af-32545fd13c5e",
   "metadata": {},
   "source": [
    "This extracts the 'Size' and 'Price' columns as numpy arrays."
   ]
  },
  {
   "cell_type": "markdown",
   "id": "535ce920-9b23-4e00-9206-f0858ea40951",
   "metadata": {},
   "source": [
    "# Implement Linear Regression from Scratch:"
   ]
  },
  {
   "cell_type": "code",
   "execution_count": 10,
   "id": "569a109d-da23-4a8f-952b-bb2310c9f278",
   "metadata": {},
   "outputs": [
    {
     "name": "stdout",
     "output_type": "stream",
     "text": [
      "Slope (b1): 200.0\n",
      "Intercept (b0): 0.0\n"
     ]
    }
   ],
   "source": [
    "mean_x = np.mean(X)\n",
    "mean_y = np.mean(y)\n",
    "\n",
    "numerator = np.sum((X - mean_x) * (y - mean_y))\n",
    "denominator = np.sum((X - mean_x) ** 2)\n",
    "\n",
    "b1 = numerator / denominator\n",
    "b0 = mean_y - (b1 * mean_x)\n",
    "\n",
    "print(f'Slope (b1): {b1}')\n",
    "print(f'Intercept (b0): {b0}')\n"
   ]
  },
  {
   "cell_type": "markdown",
   "id": "d0be6bde-6ce8-4856-9453-f700ede134dc",
   "metadata": {},
   "source": [
    "## This calculates the slope (b1) and intercept (b0) using the least squares method.\n",
    "\n"
   ]
  },
  {
   "cell_type": "markdown",
   "id": "2a7fb253-0880-45d4-bafa-bc4ff6d188e9",
   "metadata": {},
   "source": [
    "Make Predictions:"
   ]
  },
  {
   "cell_type": "code",
   "execution_count": 12,
   "id": "f02ec1f6-f7a0-4211-903f-1a129c1ef53d",
   "metadata": {},
   "outputs": [],
   "source": [
    "y_pred = b0 + b1 * X\n"
   ]
  },
  {
   "cell_type": "markdown",
   "id": "413e82c5-020d-4dd6-80f1-7e47c1624e65",
   "metadata": {},
   "source": [
    "This computes the predicted house prices."
   ]
  },
  {
   "cell_type": "markdown",
   "id": "47aa20fe-a8c6-480f-9535-2bd41498478a",
   "metadata": {},
   "source": [
    "### Evaluate the Model:"
   ]
  },
  {
   "cell_type": "code",
   "execution_count": 13,
   "id": "368709e6-805a-49f2-9f18-3e7042e20630",
   "metadata": {},
   "outputs": [
    {
     "name": "stdout",
     "output_type": "stream",
     "text": [
      "Mean Squared Error: 0.0\n",
      "R^2 Score: 1.0\n"
     ]
    }
   ],
   "source": [
    "mse = np.mean((y - y_pred) ** 2)\n",
    "\n",
    "ss_total = np.sum((y - mean_y) ** 2)\n",
    "ss_residual = np.sum((y - y_pred) ** 2)\n",
    "r2 = 1 - (ss_residual / ss_total)\n",
    "\n",
    "print(f'Mean Squared Error: {mse}')\n",
    "print(f'R^2 Score: {r2}')\n"
   ]
  },
  {
   "cell_type": "markdown",
   "id": "e1baeef5-1787-407e-8ec8-3bcdb250630e",
   "metadata": {},
   "source": [
    "This calculates the mean squared error and R^2 score to evaluate the model's performance."
   ]
  },
  {
   "cell_type": "code",
   "execution_count": 14,
   "id": "f71bb08b-59a7-4662-a815-782c5d505aae",
   "metadata": {},
   "outputs": [
    {
     "data": {
      "image/png": "[encoded data removed]",
      "text/plain": [
       "<Figure size 640x480 with 1 Axes>"
      ]
     },
     "metadata": {},
     "output_type": "display_data"
    }
   ],
   "source": [
    "plt.scatter(X, y, color='blue', label='Actual Data')\n",
    "plt.plot(X, y_pred, color='red', linewidth=2, label='Regression Line')\n",
    "plt.xlabel('Size')\n",
    "plt.ylabel('Price')\n",
    "plt.title('House Price Prediction')\n",
    "plt.legend()\n",
    "plt.show()\n"
   ]
  },
  {
   "cell_type": "code",
   "execution_count": 15,
   "id": "40ab3d20-462d-4dce-b9c0-972cc507fc64",
   "metadata": {},
   "outputs": [
    {
     "name": "stdout",
     "output_type": "stream",
     "text": [
      "Accuracy: 100.0%\n"
     ]
    }
   ],
   "source": [
    "# Optional: Calculate accuracy as a percentage\n",
    "# Note: This is not a standard metric for regression models\n",
    "# We'll define accuracy as (1 - sqrt(MSE) / mean_y) * 100\n",
    "accuracy = (1 - (np.sqrt(mse) / mean_y)) * 100\n",
    "print(f'Accuracy: {accuracy}%')\n"
   ]
  },
  {
   "cell_type": "markdown",
   "id": "b6defe8d-eff3-4569-9993-fb4f3fe6157f",
   "metadata": {},
   "source": [
    "# my using the library method"
   ]
  },
  {
   "cell_type": "code",
   "execution_count": 1,
   "id": "1672221c-0e4f-46e6-adfa-b0df9292243f",
   "metadata": {},
   "outputs": [
    {
     "data": {
      "text/html": [
       "<div>\n",
       "<style scoped>\n",
       "    .dataframe tbody tr th:only-of-type {\n",
       "        vertical-align: middle;\n",
       "    }\n",
       "\n",
       "    .dataframe tbody tr th {\n",
       "        vertical-align: top;\n",
       "    }\n",
       "\n",
       "    .dataframe thead th {\n",
       "        text-align: right;\n",
       "    }\n",
       "</style>\n",
       "<table border=\"1\" class=\"dataframe\">\n",
       "  <thead>\n",
       "    <tr style=\"text-align: right;\">\n",
       "      <th></th>\n",
       "      <th>Unnamed: 0</th>\n",
       "      <th>Id</th>\n",
       "      <th>MSSubClass</th>\n",
       "      <th>MSZoning</th>\n",
       "      <th>LotArea</th>\n",
       "      <th>Street</th>\n",
       "      <th>LotShape</th>\n",
       "      <th>LandContour</th>\n",
       "      <th>Utilities</th>\n",
       "      <th>LotConfig</th>\n",
       "      <th>...</th>\n",
       "      <th>EnclosedPorch</th>\n",
       "      <th>3SsnPorch</th>\n",
       "      <th>ScreenPorch</th>\n",
       "      <th>PoolArea</th>\n",
       "      <th>MiscVal</th>\n",
       "      <th>MoSold</th>\n",
       "      <th>YrSold</th>\n",
       "      <th>SaleType</th>\n",
       "      <th>SaleCondition</th>\n",
       "      <th>SalePrice</th>\n",
       "    </tr>\n",
       "  </thead>\n",
       "  <tbody>\n",
       "    <tr>\n",
       "      <th>0</th>\n",
       "      <td>1200</td>\n",
       "      <td>1202</td>\n",
       "      <td>60</td>\n",
       "      <td>3</td>\n",
       "      <td>10400</td>\n",
       "      <td>1</td>\n",
       "      <td>3</td>\n",
       "      <td>3</td>\n",
       "      <td>0</td>\n",
       "      <td>0</td>\n",
       "      <td>...</td>\n",
       "      <td>0</td>\n",
       "      <td>0</td>\n",
       "      <td>0</td>\n",
       "      <td>0</td>\n",
       "      <td>0</td>\n",
       "      <td>3</td>\n",
       "      <td>2009</td>\n",
       "      <td>8</td>\n",
       "      <td>4</td>\n",
       "      <td>12.195517</td>\n",
       "    </tr>\n",
       "    <tr>\n",
       "      <th>1</th>\n",
       "      <td>1201</td>\n",
       "      <td>1203</td>\n",
       "      <td>50</td>\n",
       "      <td>4</td>\n",
       "      <td>6000</td>\n",
       "      <td>1</td>\n",
       "      <td>3</td>\n",
       "      <td>3</td>\n",
       "      <td>0</td>\n",
       "      <td>0</td>\n",
       "      <td>...</td>\n",
       "      <td>208</td>\n",
       "      <td>0</td>\n",
       "      <td>0</td>\n",
       "      <td>0</td>\n",
       "      <td>0</td>\n",
       "      <td>5</td>\n",
       "      <td>2009</td>\n",
       "      <td>8</td>\n",
       "      <td>4</td>\n",
       "      <td>11.669929</td>\n",
       "    </tr>\n",
       "    <tr>\n",
       "      <th>2</th>\n",
       "      <td>1202</td>\n",
       "      <td>1204</td>\n",
       "      <td>20</td>\n",
       "      <td>3</td>\n",
       "      <td>9750</td>\n",
       "      <td>1</td>\n",
       "      <td>3</td>\n",
       "      <td>3</td>\n",
       "      <td>0</td>\n",
       "      <td>4</td>\n",
       "      <td>...</td>\n",
       "      <td>0</td>\n",
       "      <td>0</td>\n",
       "      <td>0</td>\n",
       "      <td>0</td>\n",
       "      <td>0</td>\n",
       "      <td>10</td>\n",
       "      <td>2009</td>\n",
       "      <td>8</td>\n",
       "      <td>4</td>\n",
       "      <td>12.269047</td>\n",
       "    </tr>\n",
       "    <tr>\n",
       "      <th>3</th>\n",
       "      <td>1203</td>\n",
       "      <td>1205</td>\n",
       "      <td>20</td>\n",
       "      <td>3</td>\n",
       "      <td>10140</td>\n",
       "      <td>1</td>\n",
       "      <td>3</td>\n",
       "      <td>3</td>\n",
       "      <td>0</td>\n",
       "      <td>4</td>\n",
       "      <td>...</td>\n",
       "      <td>0</td>\n",
       "      <td>0</td>\n",
       "      <td>0</td>\n",
       "      <td>0</td>\n",
       "      <td>0</td>\n",
       "      <td>7</td>\n",
       "      <td>2006</td>\n",
       "      <td>8</td>\n",
       "      <td>4</td>\n",
       "      <td>11.941456</td>\n",
       "    </tr>\n",
       "    <tr>\n",
       "      <th>4</th>\n",
       "      <td>1204</td>\n",
       "      <td>1206</td>\n",
       "      <td>20</td>\n",
       "      <td>3</td>\n",
       "      <td>14684</td>\n",
       "      <td>1</td>\n",
       "      <td>0</td>\n",
       "      <td>3</td>\n",
       "      <td>0</td>\n",
       "      <td>1</td>\n",
       "      <td>...</td>\n",
       "      <td>0</td>\n",
       "      <td>0</td>\n",
       "      <td>0</td>\n",
       "      <td>0</td>\n",
       "      <td>0</td>\n",
       "      <td>6</td>\n",
       "      <td>2009</td>\n",
       "      <td>8</td>\n",
       "      <td>4</td>\n",
       "      <td>12.513190</td>\n",
       "    </tr>\n",
       "  </tbody>\n",
       "</table>\n",
       "<p>5 rows × 72 columns</p>\n",
       "</div>"
      ],
      "text/plain": [
       "   Unnamed: 0    Id  MSSubClass  MSZoning  LotArea  Street  LotShape  \\\n",
       "0        1200  1202          60         3    10400       1         3   \n",
       "1        1201  1203          50         4     6000       1         3   \n",
       "2        1202  1204          20         3     9750       1         3   \n",
       "3        1203  1205          20         3    10140       1         3   \n",
       "4        1204  1206          20         3    14684       1         0   \n",
       "\n",
       "   LandContour  Utilities  LotConfig  ...  EnclosedPorch  3SsnPorch  \\\n",
       "0            3          0          0  ...              0          0   \n",
       "1            3          0          0  ...            208          0   \n",
       "2            3          0          4  ...              0          0   \n",
       "3            3          0          4  ...              0          0   \n",
       "4            3          0          1  ...              0          0   \n",
       "\n",
       "   ScreenPorch  PoolArea  MiscVal  MoSold  YrSold  SaleType  SaleCondition  \\\n",
       "0            0         0        0       3    2009         8              4   \n",
       "1            0         0        0       5    2009         8              4   \n",
       "2            0         0        0      10    2009         8              4   \n",
       "3            0         0        0       7    2006         8              4   \n",
       "4            0         0        0       6    2009         8              4   \n",
       "\n",
       "   SalePrice  \n",
       "0  12.195517  \n",
       "1  11.669929  \n",
       "2  12.269047  \n",
       "3  11.941456  \n",
       "4  12.513190  \n",
       "\n",
       "[5 rows x 72 columns]"
      ]
     },
     "execution_count": 1,
     "metadata": {},
     "output_type": "execute_result"
    }
   ],
   "source": [
    "import pandas as pd\n",
    "df = pd.read_csv(\"test_dataset.csv\")\n",
    "df.head(5)"
   ]
  },
  {
   "cell_type": "code",
   "execution_count": 7,
   "id": "9467e3d6-60e7-4263-ab52-1f91a1fa24cd",
   "metadata": {},
   "outputs": [
    {
     "name": "stdout",
     "output_type": "stream",
     "text": [
      "Index(['Unnamed: 0', 'Id', 'MSSubClass', 'MSZoning', 'LotArea', 'Street',\n",
      "       'LotShape', 'LandContour', 'Utilities', 'LotConfig', 'LandSlope',\n",
      "       'Neighborhood', 'Condition1', 'Condition2', 'BldgType', 'HouseStyle',\n",
      "       'OverallQual', 'OverallCond', 'YearBuilt', 'YearRemodAdd', 'RoofStyle',\n",
      "       'RoofMatl', 'Exterior1st', 'Exterior2nd', 'MasVnrType', 'MasVnrArea',\n",
      "       'ExterQual', 'ExterCond', 'Foundation', 'BsmtQual', 'BsmtCond',\n",
      "       'BsmtExposure', 'BsmtFinType1', 'BsmtFinSF1', 'BsmtFinType2',\n",
      "       'BsmtFinSF2', 'BsmtUnfSF', 'TotalBsmtSF', 'Heating', 'HeatingQC',\n",
      "       'CentralAir', 'Electrical', '2ndFlrSF', 'LowQualFinSF', 'GrLivArea',\n",
      "       'BsmtFullBath', 'BsmtHalfBath', 'FullBath', 'HalfBath', 'BedroomAbvGr',\n",
      "       'KitchenAbvGr', 'KitchenQual', 'Functional', 'Fireplaces', 'GarageType',\n",
      "       'GarageFinish', 'GarageCars', 'GarageQual', 'GarageCond', 'PavedDrive',\n",
      "       'WoodDeckSF', 'OpenPorchSF', 'EnclosedPorch', '3SsnPorch',\n",
      "       'ScreenPorch', 'PoolArea', 'MiscVal', 'MoSold', 'YrSold', 'SaleType',\n",
      "       'SaleCondition', 'SalePrice'],\n",
      "      dtype='object')\n"
     ]
    }
   ],
   "source": [
    "print(df.columns)"
   ]
  },
  {
   "cell_type": "markdown",
   "id": "8ffea504-d70a-4dd2-87a3-2ad6043619db",
   "metadata": {},
   "source": [
    "#  here we take only  SalePrice so we split it "
   ]
  },
  {
   "cell_type": "code",
   "execution_count": 8,
   "id": "e7407bfa-62f1-416f-8c81-be268a67bc3e",
   "metadata": {},
   "outputs": [
    {
     "name": "stdout",
     "output_type": "stream",
     "text": [
      "shape of x =  (258, 71)\n",
      "shape of y =  (258,)\n"
     ]
    }
   ],
   "source": [
    "x = df.drop('SalePrice',axis=1)\n",
    "y = df['SalePrice']\n",
    "\n",
    "print('shape of x = ', x.shape)\n",
    "print('shape of y = ', y.shape)"
   ]
  },
  {
   "cell_type": "code",
   "execution_count": 16,
   "id": "5835c755-d316-4980-8458-ea1fbea3ace8",
   "metadata": {},
   "outputs": [
    {
     "name": "stdout",
     "output_type": "stream",
     "text": [
      "shape of x_train=  (206, 71)\n",
      "shape of y_train =  (206,)\n",
      "shape of x_test= (52, 71)\n",
      "shape of y_test= (52,)\n"
     ]
    }
   ],
   "source": [
    "from sklearn.model_selection import train_test_split\n",
    "X_train, X_test, y_train, y_test = train_test_split(x, y, test_size=0.2, random_state=51)\n",
    "\n",
    "print(\"shape of x_train= \", X_train.shape)\n",
    "print(\"shape of y_train = \", y_train.shape)\n",
    "print(\"shape of x_test=\", X_test.shape)\n",
    "print(\"shape of y_test=\", y_test.shape)\n",
    "      "
   ]
  },
  {
   "cell_type": "markdown",
   "id": "81dad7d0-3f6c-4111-838f-106a981fe979",
   "metadata": {},
   "source": [
    "# feature scalling"
   ]
  },
  {
   "cell_type": "code",
   "execution_count": 17,
   "id": "654331b5-c517-4f2a-acfa-891c41314da2",
   "metadata": {},
   "outputs": [],
   "source": [
    "from sklearn.preprocessing import StandardScaler"
   ]
  },
  {
   "cell_type": "code",
   "execution_count": 19,
   "id": "a1c25db5-5659-4d62-bd03-e724a17e8e39",
   "metadata": {},
   "outputs": [],
   "source": [
    "sc = StandardScaler()\n",
    "sc.fit(X_train)\n",
    "x_train = sc.transform(X_train)\n",
    "x_test = sc.transform(X_test)"
   ]
  },
  {
   "cell_type": "markdown",
   "id": "84ed5b35-1857-466f-a969-761126ad717d",
   "metadata": {},
   "source": [
    "# now train the model using skelarn library "
   ]
  },
  {
   "cell_type": "code",
   "execution_count": 21,
   "id": "a1934e5f-0e25-40a7-8ad5-0bea77e5f1d9",
   "metadata": {},
   "outputs": [],
   "source": [
    "from sklearn.linear_model import LinearRegression"
   ]
  },
  {
   "cell_type": "code",
   "execution_count": 22,
   "id": "165e3fb5-4ffd-48b3-9bbe-6376a604c40e",
   "metadata": {},
   "outputs": [
    {
     "data": {
      "text/html": [
       "<style>#sk-container-id-1 {\n",
       "  /* Definition of color scheme common for light and dark mode */\n",
       "  --sklearn-color-text: black;\n",
       "  --sklearn-color-line: gray;\n",
       "  /* Definition of color scheme for unfitted estimators */\n",
       "  --sklearn-color-unfitted-level-0: #fff5e6;\n",
       "  --sklearn-color-unfitted-level-1: #f6e4d2;\n",
       "  --sklearn-color-unfitted-level-2: #ffe0b3;\n",
       "  --sklearn-color-unfitted-level-3: chocolate;\n",
       "  /* Definition of color scheme for fitted estimators */\n",
       "  --sklearn-color-fitted-level-0: #f0f8ff;\n",
       "  --sklearn-color-fitted-level-1: #d4ebff;\n",
       "  --sklearn-color-fitted-level-2: #b3dbfd;\n",
       "  --sklearn-color-fitted-level-3: cornflowerblue;\n",
       "\n",
       "  /* Specific color for light theme */\n",
       "  --sklearn-color-text-on-default-background: var(--sg-text-color, var(--theme-code-foreground, var(--jp-content-font-color1, black)));\n",
       "  --sklearn-color-background: var(--sg-background-color, var(--theme-background, var(--jp-layout-color0, white)));\n",
       "  --sklearn-color-border-box: var(--sg-text-color, var(--theme-code-foreground, var(--jp-content-font-color1, black)));\n",
       "  --sklearn-color-icon: #696969;\n",
       "\n",
       "  @media (prefers-color-scheme: dark) {\n",
       "    /* Redefinition of color scheme for dark theme */\n",
       "    --sklearn-color-text-on-default-background: var(--sg-text-color, var(--theme-code-foreground, var(--jp-content-font-color1, white)));\n",
       "    --sklearn-color-background: var(--sg-background-color, var(--theme-background, var(--jp-layout-color0, #111)));\n",
       "    --sklearn-color-border-box: var(--sg-text-color, var(--theme-code-foreground, var(--jp-content-font-color1, white)));\n",
       "    --sklearn-color-icon: #878787;\n",
       "  }\n",
       "}\n",
       "\n",
       "#sk-container-id-1 {\n",
       "  color: var(--sklearn-color-text);\n",
       "}\n",
       "\n",
       "#sk-container-id-1 pre {\n",
       "  padding: 0;\n",
       "}\n",
       "\n",
       "#sk-container-id-1 input.sk-hidden--visually {\n",
       "  border: 0;\n",
       "  clip: rect(1px 1px 1px 1px);\n",
       "  clip: rect(1px, 1px, 1px, 1px);\n",
       "  height: 1px;\n",
       "  margin: -1px;\n",
       "  overflow: hidden;\n",
       "  padding: 0;\n",
       "  position: absolute;\n",
       "  width: 1px;\n",
       "}\n",
       "\n",
       "#sk-container-id-1 div.sk-dashed-wrapped {\n",
       "  border: 1px dashed var(--sklearn-color-line);\n",
       "  margin: 0 0.4em 0.5em 0.4em;\n",
       "  box-sizing: border-box;\n",
       "  padding-bottom: 0.4em;\n",
       "  background-color: var(--sklearn-color-background);\n",
       "}\n",
       "\n",
       "#sk-container-id-1 div.sk-container {\n",
       "  /* jupyter's `normalize.less` sets `[hidden] { display: none; }`\n",
       "     but bootstrap.min.css set `[hidden] { display: none !important; }`\n",
       "     so we also need the `!important` here to be able to override the\n",
       "     default hidden behavior on the sphinx rendered scikit-learn.org.\n",
       "     See: https://github.com/scikit-learn/scikit-learn/issues/21755 */\n",
       "  display: inline-block !important;\n",
       "  position: relative;\n",
       "}\n",
       "\n",
       "#sk-container-id-1 div.sk-text-repr-fallback {\n",
       "  display: none;\n",
       "}\n",
       "\n",
       "div.sk-parallel-item,\n",
       "div.sk-serial,\n",
       "div.sk-item {\n",
       "  /* draw centered vertical line to link estimators */\n",
       "  background-image: linear-gradient(var(--sklearn-color-text-on-default-background), var(--sklearn-color-text-on-default-background));\n",
       "  background-size: 2px 100%;\n",
       "  background-repeat: no-repeat;\n",
       "  background-position: center center;\n",
       "}\n",
       "\n",
       "/* Parallel-specific style estimator block */\n",
       "\n",
       "#sk-container-id-1 div.sk-parallel-item::after {\n",
       "  content: \"\";\n",
       "  width: 100%;\n",
       "  border-bottom: 2px solid var(--sklearn-color-text-on-default-background);\n",
       "  flex-grow: 1;\n",
       "}\n",
       "\n",
       "#sk-container-id-1 div.sk-parallel {\n",
       "  display: flex;\n",
       "  align-items: stretch;\n",
       "  justify-content: center;\n",
       "  background-color: var(--sklearn-color-background);\n",
       "  position: relative;\n",
       "}\n",
       "\n",
       "#sk-container-id-1 div.sk-parallel-item {\n",
       "  display: flex;\n",
       "  flex-direction: column;\n",
       "}\n",
       "\n",
       "#sk-container-id-1 div.sk-parallel-item:first-child::after {\n",
       "  align-self: flex-end;\n",
       "  width: 50%;\n",
       "}\n",
       "\n",
       "#sk-container-id-1 div.sk-parallel-item:last-child::after {\n",
       "  align-self: flex-start;\n",
       "  width: 50%;\n",
       "}\n",
       "\n",
       "#sk-container-id-1 div.sk-parallel-item:only-child::after {\n",
       "  width: 0;\n",
       "}\n",
       "\n",
       "/* Serial-specific style estimator block */\n",
       "\n",
       "#sk-container-id-1 div.sk-serial {\n",
       "  display: flex;\n",
       "  flex-direction: column;\n",
       "  align-items: center;\n",
       "  background-color: var(--sklearn-color-background);\n",
       "  padding-right: 1em;\n",
       "  padding-left: 1em;\n",
       "}\n",
       "\n",
       "\n",
       "/* Toggleable style: style used for estimator/Pipeline/ColumnTransformer box that is\n",
       "clickable and can be expanded/collapsed.\n",
       "- Pipeline and ColumnTransformer use this feature and define the default style\n",
       "- Estimators will overwrite some part of the style using the `sk-estimator` class\n",
       "*/\n",
       "\n",
       "/* Pipeline and ColumnTransformer style (default) */\n",
       "\n",
       "#sk-container-id-1 div.sk-toggleable {\n",
       "  /* Default theme specific background. It is overwritten whether we have a\n",
       "  specific estimator or a Pipeline/ColumnTransformer */\n",
       "  background-color: var(--sklearn-color-background);\n",
       "}\n",
       "\n",
       "/* Toggleable label */\n",
       "#sk-container-id-1 label.sk-toggleable__label {\n",
       "  cursor: pointer;\n",
       "  display: block;\n",
       "  width: 100%;\n",
       "  margin-bottom: 0;\n",
       "  padding: 0.5em;\n",
       "  box-sizing: border-box;\n",
       "  text-align: center;\n",
       "}\n",
       "\n",
       "#sk-container-id-1 label.sk-toggleable__label-arrow:before {\n",
       "  /* Arrow on the left of the label */\n",
       "  content: \"▸\";\n",
       "  float: left;\n",
       "  margin-right: 0.25em;\n",
       "  color: var(--sklearn-color-icon);\n",
       "}\n",
       "\n",
       "#sk-container-id-1 label.sk-toggleable__label-arrow:hover:before {\n",
       "  color: var(--sklearn-color-text);\n",
       "}\n",
       "\n",
       "/* Toggleable content - dropdown */\n",
       "\n",
       "#sk-container-id-1 div.sk-toggleable__content {\n",
       "  max-height: 0;\n",
       "  max-width: 0;\n",
       "  overflow: hidden;\n",
       "  text-align: left;\n",
       "  /* unfitted */\n",
       "  background-color: var(--sklearn-color-unfitted-level-0);\n",
       "}\n",
       "\n",
       "#sk-container-id-1 div.sk-toggleable__content.fitted {\n",
       "  /* fitted */\n",
       "  background-color: var(--sklearn-color-fitted-level-0);\n",
       "}\n",
       "\n",
       "#sk-container-id-1 div.sk-toggleable__content pre {\n",
       "  margin: 0.2em;\n",
       "  border-radius: 0.25em;\n",
       "  color: var(--sklearn-color-text);\n",
       "  /* unfitted */\n",
       "  background-color: var(--sklearn-color-unfitted-level-0);\n",
       "}\n",
       "\n",
       "#sk-container-id-1 div.sk-toggleable__content.fitted pre {\n",
       "  /* unfitted */\n",
       "  background-color: var(--sklearn-color-fitted-level-0);\n",
       "}\n",
       "\n",
       "#sk-container-id-1 input.sk-toggleable__control:checked~div.sk-toggleable__content {\n",
       "  /* Expand drop-down */\n",
       "  max-height: 200px;\n",
       "  max-width: 100%;\n",
       "  overflow: auto;\n",
       "}\n",
       "\n",
       "#sk-container-id-1 input.sk-toggleable__control:checked~label.sk-toggleable__label-arrow:before {\n",
       "  content: \"▾\";\n",
       "}\n",
       "\n",
       "/* Pipeline/ColumnTransformer-specific style */\n",
       "\n",
       "#sk-container-id-1 div.sk-label input.sk-toggleable__control:checked~label.sk-toggleable__label {\n",
       "  color: var(--sklearn-color-text);\n",
       "  background-color: var(--sklearn-color-unfitted-level-2);\n",
       "}\n",
       "\n",
       "#sk-container-id-1 div.sk-label.fitted input.sk-toggleable__control:checked~label.sk-toggleable__label {\n",
       "  background-color: var(--sklearn-color-fitted-level-2);\n",
       "}\n",
       "\n",
       "/* Estimator-specific style */\n",
       "\n",
       "/* Colorize estimator box */\n",
       "#sk-container-id-1 div.sk-estimator input.sk-toggleable__control:checked~label.sk-toggleable__label {\n",
       "  /* unfitted */\n",
       "  background-color: var(--sklearn-color-unfitted-level-2);\n",
       "}\n",
       "\n",
       "#sk-container-id-1 div.sk-estimator.fitted input.sk-toggleable__control:checked~label.sk-toggleable__label {\n",
       "  /* fitted */\n",
       "  background-color: var(--sklearn-color-fitted-level-2);\n",
       "}\n",
       "\n",
       "#sk-container-id-1 div.sk-label label.sk-toggleable__label,\n",
       "#sk-container-id-1 div.sk-label label {\n",
       "  /* The background is the default theme color */\n",
       "  color: var(--sklearn-color-text-on-default-background);\n",
       "}\n",
       "\n",
       "/* On hover, darken the color of the background */\n",
       "#sk-container-id-1 div.sk-label:hover label.sk-toggleable__label {\n",
       "  color: var(--sklearn-color-text);\n",
       "  background-color: var(--sklearn-color-unfitted-level-2);\n",
       "}\n",
       "\n",
       "/* Label box, darken color on hover, fitted */\n",
       "#sk-container-id-1 div.sk-label.fitted:hover label.sk-toggleable__label.fitted {\n",
       "  color: var(--sklearn-color-text);\n",
       "  background-color: var(--sklearn-color-fitted-level-2);\n",
       "}\n",
       "\n",
       "/* Estimator label */\n",
       "\n",
       "#sk-container-id-1 div.sk-label label {\n",
       "  font-family: monospace;\n",
       "  font-weight: bold;\n",
       "  display: inline-block;\n",
       "  line-height: 1.2em;\n",
       "}\n",
       "\n",
       "#sk-container-id-1 div.sk-label-container {\n",
       "  text-align: center;\n",
       "}\n",
       "\n",
       "/* Estimator-specific */\n",
       "#sk-container-id-1 div.sk-estimator {\n",
       "  font-family: monospace;\n",
       "  border: 1px dotted var(--sklearn-color-border-box);\n",
       "  border-radius: 0.25em;\n",
       "  box-sizing: border-box;\n",
       "  margin-bottom: 0.5em;\n",
       "  /* unfitted */\n",
       "  background-color: var(--sklearn-color-unfitted-level-0);\n",
       "}\n",
       "\n",
       "#sk-container-id-1 div.sk-estimator.fitted {\n",
       "  /* fitted */\n",
       "  background-color: var(--sklearn-color-fitted-level-0);\n",
       "}\n",
       "\n",
       "/* on hover */\n",
       "#sk-container-id-1 div.sk-estimator:hover {\n",
       "  /* unfitted */\n",
       "  background-color: var(--sklearn-color-unfitted-level-2);\n",
       "}\n",
       "\n",
       "#sk-container-id-1 div.sk-estimator.fitted:hover {\n",
       "  /* fitted */\n",
       "  background-color: var(--sklearn-color-fitted-level-2);\n",
       "}\n",
       "\n",
       "/* Specification for estimator info (e.g. \"i\" and \"?\") */\n",
       "\n",
       "/* Common style for \"i\" and \"?\" */\n",
       "\n",
       ".sk-estimator-doc-link,\n",
       "a:link.sk-estimator-doc-link,\n",
       "a:visited.sk-estimator-doc-link {\n",
       "  float: right;\n",
       "  font-size: smaller;\n",
       "  line-height: 1em;\n",
       "  font-family: monospace;\n",
       "  background-color: var(--sklearn-color-background);\n",
       "  border-radius: 1em;\n",
       "  height: 1em;\n",
       "  width: 1em;\n",
       "  text-decoration: none !important;\n",
       "  margin-left: 1ex;\n",
       "  /* unfitted */\n",
       "  border: var(--sklearn-color-unfitted-level-1) 1pt solid;\n",
       "  color: var(--sklearn-color-unfitted-level-1);\n",
       "}\n",
       "\n",
       ".sk-estimator-doc-link.fitted,\n",
       "a:link.sk-estimator-doc-link.fitted,\n",
       "a:visited.sk-estimator-doc-link.fitted {\n",
       "  /* fitted */\n",
       "  border: var(--sklearn-color-fitted-level-1) 1pt solid;\n",
       "  color: var(--sklearn-color-fitted-level-1);\n",
       "}\n",
       "\n",
       "/* On hover */\n",
       "div.sk-estimator:hover .sk-estimator-doc-link:hover,\n",
       ".sk-estimator-doc-link:hover,\n",
       "div.sk-label-container:hover .sk-estimator-doc-link:hover,\n",
       ".sk-estimator-doc-link:hover {\n",
       "  /* unfitted */\n",
       "  background-color: var(--sklearn-color-unfitted-level-3);\n",
       "  color: var(--sklearn-color-background);\n",
       "  text-decoration: none;\n",
       "}\n",
       "\n",
       "div.sk-estimator.fitted:hover .sk-estimator-doc-link.fitted:hover,\n",
       ".sk-estimator-doc-link.fitted:hover,\n",
       "div.sk-label-container:hover .sk-estimator-doc-link.fitted:hover,\n",
       ".sk-estimator-doc-link.fitted:hover {\n",
       "  /* fitted */\n",
       "  background-color: var(--sklearn-color-fitted-level-3);\n",
       "  color: var(--sklearn-color-background);\n",
       "  text-decoration: none;\n",
       "}\n",
       "\n",
       "/* Span, style for the box shown on hovering the info icon */\n",
       ".sk-estimator-doc-link span {\n",
       "  display: none;\n",
       "  z-index: 9999;\n",
       "  position: relative;\n",
       "  font-weight: normal;\n",
       "  right: .2ex;\n",
       "  padding: .5ex;\n",
       "  margin: .5ex;\n",
       "  width: min-content;\n",
       "  min-width: 20ex;\n",
       "  max-width: 50ex;\n",
       "  color: var(--sklearn-color-text);\n",
       "  box-shadow: 2pt 2pt 4pt #999;\n",
       "  /* unfitted */\n",
       "  background: var(--sklearn-color-unfitted-level-0);\n",
       "  border: .5pt solid var(--sklearn-color-unfitted-level-3);\n",
       "}\n",
       "\n",
       ".sk-estimator-doc-link.fitted span {\n",
       "  /* fitted */\n",
       "  background: var(--sklearn-color-fitted-level-0);\n",
       "  border: var(--sklearn-color-fitted-level-3);\n",
       "}\n",
       "\n",
       ".sk-estimator-doc-link:hover span {\n",
       "  display: block;\n",
       "}\n",
       "\n",
       "/* \"?\"-specific style due to the `<a>` HTML tag */\n",
       "\n",
       "#sk-container-id-1 a.estimator_doc_link {\n",
       "  float: right;\n",
       "  font-size: 1rem;\n",
       "  line-height: 1em;\n",
       "  font-family: monospace;\n",
       "  background-color: var(--sklearn-color-background);\n",
       "  border-radius: 1rem;\n",
       "  height: 1rem;\n",
       "  width: 1rem;\n",
       "  text-decoration: none;\n",
       "  /* unfitted */\n",
       "  color: var(--sklearn-color-unfitted-level-1);\n",
       "  border: var(--sklearn-color-unfitted-level-1) 1pt solid;\n",
       "}\n",
       "\n",
       "#sk-container-id-1 a.estimator_doc_link.fitted {\n",
       "  /* fitted */\n",
       "  border: var(--sklearn-color-fitted-level-1) 1pt solid;\n",
       "  color: var(--sklearn-color-fitted-level-1);\n",
       "}\n",
       "\n",
       "/* On hover */\n",
       "#sk-container-id-1 a.estimator_doc_link:hover {\n",
       "  /* unfitted */\n",
       "  background-color: var(--sklearn-color-unfitted-level-3);\n",
       "  color: var(--sklearn-color-background);\n",
       "  text-decoration: none;\n",
       "}\n",
       "\n",
       "#sk-container-id-1 a.estimator_doc_link.fitted:hover {\n",
       "  /* fitted */\n",
       "  background-color: var(--sklearn-color-fitted-level-3);\n",
       "}\n",
       "</style><div id=\"sk-container-id-1\" class=\"sk-top-container\"><div class=\"sk-text-repr-fallback\"><pre>LinearRegression()</pre><b>In a Jupyter environment, please rerun this cell to show the HTML representation or trust the notebook. <br />On GitHub, the HTML representation is unable to render, please try loading this page with nbviewer.org.</b></div><div class=\"sk-container\" hidden><div class=\"sk-item\"><div class=\"sk-estimator fitted sk-toggleable\"><input class=\"sk-toggleable__control sk-hidden--visually\" id=\"sk-estimator-id-1\" type=\"checkbox\" checked><label for=\"sk-estimator-id-1\" class=\"sk-toggleable__label fitted sk-toggleable__label-arrow fitted\">&nbsp;&nbsp;LinearRegression<a class=\"sk-estimator-doc-link fitted\" rel=\"noreferrer\" target=\"_blank\" href=\"https://scikit-learn.org/1.5/modules/generated/sklearn.linear_model.LinearRegression.html\">?<span>Documentation for LinearRegression</span></a><span class=\"sk-estimator-doc-link fitted\">i<span>Fitted</span></span></label><div class=\"sk-toggleable__content fitted\"><pre>LinearRegression()</pre></div> </div></div></div></div>"
      ],
      "text/plain": [
       "LinearRegression()"
      ]
     },
     "execution_count": 22,
     "metadata": {},
     "output_type": "execute_result"
    }
   ],
   "source": [
    "lr = LinearRegression()\n",
    "# fit method is used to train the data\n",
    "lr.fit(x_train, y_train)"
   ]
  },
  {
   "cell_type": "code",
   "execution_count": 23,
   "id": "e9dd83d0-0621-4b27-85ad-e9ceff02736b",
   "metadata": {},
   "outputs": [
    {
     "data": {
      "text/plain": [
       "array([ 3.84018293e+00, -3.84128238e+00,  2.63815686e-02, -1.92986741e-02,\n",
       "        2.22850446e-02, -1.38048382e+12, -2.32375279e-02, -1.81037905e-02,\n",
       "       -7.19253028e+11,  6.56623654e-03, -2.52277327e-02, -8.39795863e-03,\n",
       "        9.20345955e-03, -1.64519236e-02, -2.62261961e-02, -6.00398849e-03,\n",
       "        6.15355182e-02,  7.93297001e-02,  7.35166866e-02, -2.63707956e-02,\n",
       "        5.22915615e-03,  1.72555285e-02, -4.40282030e-02,  2.91339226e-02,\n",
       "        3.86122960e-03, -6.97081441e-03,  2.68806873e-03,  1.55653981e-02,\n",
       "        2.10275868e-02, -8.05799430e-03, -7.18196280e-03, -1.49163398e-02,\n",
       "        4.69106188e-03,  7.06956908e+11,  7.44628906e-03,  2.84647963e+11,\n",
       "        7.94073408e+11, -7.17940947e+11, -1.78833008e-02, -2.83508301e-02,\n",
       "        1.40228271e-02,  4.27246094e-04,  1.97753906e-02, -2.44140625e-04,\n",
       "        1.08589172e-01,  2.70996094e-02, -4.85229492e-03, -1.06811523e-04,\n",
       "       -4.73022461e-04, -8.23974609e-04, -1.57928467e-02, -3.45535278e-02,\n",
       "        1.18103027e-02,  2.33154297e-02, -1.56173706e-02,  7.92694092e-03,\n",
       "        8.70971680e-02, -2.33459473e-02,  1.84631348e-02, -7.62939453e-03,\n",
       "        2.33001709e-02,  1.32446289e-02,  8.01086426e-03,  1.21459961e-02,\n",
       "        4.83322144e-03, -1.15966797e-03,  2.92968750e-03,  8.66699219e-03,\n",
       "       -3.05175781e-05,  3.92150879e-03,  2.20947266e-02])"
      ]
     },
     "execution_count": 23,
     "metadata": {},
     "output_type": "execute_result"
    }
   ],
   "source": [
    "# let check , does our model has learn different coefficient or not , dot and tap \n",
    "lr.coef_\n",
    "# yo sab b, b1, b2...."
   ]
  },
  {
   "cell_type": "code",
   "execution_count": 24,
   "id": "4d047c5c-4358-4b5a-ba7a-35fb90aadd5f",
   "metadata": {},
   "outputs": [
    {
     "data": {
      "text/plain": [
       "12.025789779793529"
      ]
     },
     "execution_count": 24,
     "metadata": {},
     "output_type": "execute_result"
    }
   ],
   "source": [
    "# let's check the intercept value that our model has predict\n",
    "lr.intercept_"
   ]
  },
  {
   "cell_type": "code",
   "execution_count": 25,
   "id": "10d19d78-945d-4d68-92ec-bc34de8657fd",
   "metadata": {},
   "outputs": [
    {
     "data": {
      "text/plain": [
       "array([-0.14837794, -0.14268901,  0.11180596, -0.11133908, -0.01482347,\n",
       "        0.        , -1.47304362,  0.33246651,  0.        ,  0.56244689,\n",
       "       -0.21374115,  0.53692379,  0.01194973, -0.06984303, -0.40009952,\n",
       "        0.99334774,  0.71943419, -0.57753256,  0.70775968,  0.39991915,\n",
       "       -0.53953907, -0.11907481, -1.05837416, -1.18235189,  0.32171957,\n",
       "       -0.6240797 , -0.86195604,  0.33329508,  0.81874412, -0.43433149,\n",
       "        0.27426738,  0.66211305, -0.54031821,  0.61501737,  0.29338889,\n",
       "       -0.28620896, -1.11298284, -0.73887428, -0.13064723, -0.81982091,\n",
       "        0.28023924,  0.28742471,  1.21925186, -0.08270033,  0.77287221,\n",
       "        1.16991517, -0.21374115,  0.78886497,  1.22062585,  0.10898088,\n",
       "       -0.25953326, -0.48711714,  0.25619085,  0.58443775, -0.74726807,\n",
       "       -0.32980384,  0.2311876 ,  0.27563274,  0.2519694 ,  0.35117253,\n",
       "        1.06209645, -0.14996673, -0.34943519, -0.098987  , -0.24866658,\n",
       "       -0.06984303, -0.09029217, -0.11952017,  1.59472096,  0.27428406,\n",
       "        0.17859398])"
      ]
     },
     "execution_count": 25,
     "metadata": {},
     "output_type": "execute_result"
    }
   ],
   "source": [
    "# now predict the test model\n",
    "x_test[0,:]\n",
    "# this is for single "
   ]
  },
  {
   "cell_type": "code",
   "execution_count": 27,
   "id": "4f1fa77d-c6f0-4d02-a725-cd1120b7dbda",
   "metadata": {},
   "outputs": [
    {
     "data": {
      "text/plain": [
       "array([12.34596838])"
      ]
     },
     "execution_count": 27,
     "metadata": {},
     "output_type": "execute_result"
    }
   ],
   "source": [
    "lr.predict([x_test[0,:]])\n",
    "# this is for single SalePrice "
   ]
  },
  {
   "cell_type": "code",
   "execution_count": 28,
   "id": "4b4d75be-c293-4fca-aacd-7c8bb0830727",
   "metadata": {},
   "outputs": [
    {
     "data": {
      "text/plain": [
       "array([12.34585855, 12.08711862, 12.58268595, 12.0953642 , 12.26375505,\n",
       "       12.35122263, 11.72824557, 11.92229488, 12.14184188, 11.67923006,\n",
       "       12.26193164, 12.34380598, 11.84434977, 11.76292839, 12.80902132,\n",
       "       12.9558773 , 11.39040786, 12.01665041, 12.20798827, 12.56560991,\n",
       "       12.16848634, 11.54039983, 12.14819175, 11.78361334, 12.1548413 ,\n",
       "       11.6512638 , 12.14551996, 11.86904284, 11.13391365, 11.63866734,\n",
       "       12.38157277, 11.7451045 , 12.07038446, 12.60755708, 11.50527768,\n",
       "       11.4825539 , 12.14161117, 11.47342478, 11.81257909, 12.03813464,\n",
       "       11.52031418, 11.79531511, 11.96321091, 11.76279594, 12.33014782,\n",
       "       12.11825478, 12.14199173, 11.67881471, 12.69935258, 11.42907271,\n",
       "       11.56596248, 12.63808984])"
      ]
     },
     "execution_count": 28,
     "metadata": {},
     "output_type": "execute_result"
    }
   ],
   "source": [
    "lr.predict(x_test)\n",
    "# this is for multiple SalePrice data"
   ]
  },
  {
   "cell_type": "markdown",
   "id": "024d195c-14a3-4b22-ba21-1d8aa88a1dfb",
   "metadata": {},
   "source": [
    " # loss function\n"
   ]
  },
  {
   "cell_type": "code",
   "execution_count": 31,
   "id": "3cb6879f-9cd6-4fc7-9302-15e0e1676acd",
   "metadata": {},
   "outputs": [
    {
     "data": {
      "text/plain": [
       "120    12.154779\n",
       "64     12.122147\n",
       "193    12.546868\n",
       "142    11.956553\n",
       "207    12.278393\n",
       "203    12.524526\n",
       "196    11.835009\n",
       "256    11.864462\n",
       "153    12.043554\n",
       "247    11.429544\n",
       "79     12.332705\n",
       "23     12.122691\n",
       "71     11.827736\n",
       "190    11.719940\n",
       "240    12.644328\n",
       "42     13.049793\n",
       "143    11.594505\n",
       "139    11.951180\n",
       "39     12.323411\n",
       "126    12.452933\n",
       "0      12.195517\n",
       "121    11.320554\n",
       "231    12.136187\n",
       "1      11.669929\n",
       "58     11.925035\n",
       "68     11.877569\n",
       "59     12.106252\n",
       "30     11.794338\n",
       "123    10.915088\n",
       "183    11.740061\n",
       "10     12.007622\n",
       "73     11.842229\n",
       "127    12.081076\n",
       "4      12.513190\n",
       "14     11.736069\n",
       "154    11.608236\n",
       "252    12.128111\n",
       "160    11.560763\n",
       "175    11.669929\n",
       "35     12.075394\n",
       "226    11.686879\n",
       "7      11.849398\n",
       "63     12.106252\n",
       "219    11.755872\n",
       "159    12.468437\n",
       "45     12.136187\n",
       "72     12.083905\n",
       "51     11.775290\n",
       "184    12.429216\n",
       "147    11.711776\n",
       "248    11.820410\n",
       "27     12.813918\n",
       "Name: SalePrice, dtype: float64"
      ]
     },
     "execution_count": 31,
     "metadata": {},
     "output_type": "execute_result"
    }
   ],
   "source": [
    "# this is target value\n",
    "y_test"
   ]
  },
  {
   "cell_type": "code",
   "execution_count": 30,
   "id": "cc2202e7-6965-44af-9824-f0362862cae2",
   "metadata": {},
   "outputs": [
    {
     "data": {
      "text/plain": [
       "0.8459939457374717"
      ]
     },
     "execution_count": 30,
     "metadata": {},
     "output_type": "execute_result"
    }
   ],
   "source": [
    "lr.score(x_test, y_test)"
   ]
  },
  {
   "cell_type": "markdown",
   "id": "9e640683-eea6-4600-8696-0de8cb176cdb",
   "metadata": {},
   "source": [
    "# this is 84 percentage accuracy"
   ]
  },
  {
   "cell_type": "code",
   "execution_count": null,
   "id": "36f2d256-a63c-4a45-b7a0-4d4958ab046f",
   "metadata": {},
   "outputs": [],
   "source": []
  }
 ],
 "metadata": {
  "kernelspec": {
   "display_name": "Python 3 (ipykernel)",
   "language": "python",
   "name": "python3"
  },
  "language_info": {
   "codemirror_mode": {
    "name": "ipython",
    "version": 3
   },
   "file_extension": ".py",
   "mimetype": "text/x-python",
   "name": "python",
   "nbconvert_exporter": "python",
   "pygments_lexer": "ipython3",
   "version": "3.10.12"
  }
 },
 "nbformat": 4,
 "nbformat_minor": 5
}
